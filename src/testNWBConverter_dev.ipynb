{
 "cells": [
  {
   "cell_type": "code",
   "execution_count": 27,
   "metadata": {},
   "outputs": [],
   "source": [
    "from pathlib import Path\n",
    "import datetime\n",
    "from zoneinfo import ZoneInfo\n",
    "from datetime import datetime\n",
    "import os\n",
    "import re\n",
    "import scipy.io as sio\n",
    "import numpy as np\n",
    "import pandas as pd\n",
    "\n",
    "import pynwb\n",
    "from pynwb import NWBHDF5IO, NWBFile\n",
    "\n",
    "import manimoh_utils as mu\n",
    "import manimoh_nwb_converters as mnc"
   ]
  },
  {
   "cell_type": "code",
   "execution_count": null,
   "metadata": {},
   "outputs": [],
   "source": [
    "# Import your custom extension\n",
    "from ndx_mvdmlab_metadata import (\n",
    "    LabMetaDataExtension, \n",
    "    ProbeExtension, \n",
    "    OdorantInfoExtension, \n",
    "    ExperimentalBlockExtension, \n",
    "    PreprocessedAnnotationExtension\n",
    ")"
   ]
  },
  {
   "cell_type": "code",
   "execution_count": null,
   "metadata": {},
   "outputs": [],
   "source": [
    "def add_lab_metadata_to_nwb(nwbfile, session_metadata):\n",
    "    '''\n",
    "    Function to add lab-specific metadata to the NWB file.\n",
    "    '''\n",
    "    # Create probe extension for probe 1\n",
    "    probe1_extension = None\n",
    "    if 'probe1_ID' in session_metadata:\n",
    "        probe1_metadata = {}\n",
    "        for key in session_metadata:\n",
    "            if 'probe1_' in key and 'ID' not in key and 'location' not in key:\n",
    "                if 'Depth' not in key:\n",
    "                    probe1_metadata[key.split('_')[-1]] = session_metadata[key]\n",
    "                else:\n",
    "                    probe1_metadata['depth'] = session_metadata[key]\n",
    "\n",
    "        probe1_extension = ProbeExtension(\n",
    "            name='probe1',\n",
    "            ID=session_metadata.get('probe1_ID'),\n",
    "            **probe1_metadata\n",
    "        )\n",
    "\n",
    "    # Create probe extension for probe 2 (if exists)\n",
    "    probe2_extension = None\n",
    "    if 'probe2_ID' in session_metadata:\n",
    "        probe2_metadata = {}\n",
    "        for key in session_metadata:\n",
    "            if 'probe2_' in key and 'ID' not in key and 'location' not in key:\n",
    "                if 'Depth' not in key:\n",
    "                    probe2_metadata[key.split('_')[-1]] = session_metadata[key]\n",
    "                else:\n",
    "                    probe2_metadata['depth'] = session_metadata[key]\n",
    "        \n",
    "        probe2_extension = ProbeExtension(\n",
    "            name='probe2',\n",
    "            ID=session_metadata.get('probe2_ID'),\n",
    "            **probe2_metadata\n",
    "        )\n",
    "\n",
    "    # Create odorant info extension\n",
    "    odorant_info = {}\n",
    "    for odor in ['A', 'B', 'C', 'D', 'E', 'F', 'G']:\n",
    "        odor_field = f'odor{odor}'\n",
    "        if odor_field in session_metadata:\n",
    "            key = f'Odor {odor}'\n",
    "            odorant_info[key] = session_metadata[odor_field]\n",
    "    \n",
    "    odorant_info_extension = None\n",
    "    if odorant_info:\n",
    "        odorant_info_extension = OdorantInfoExtension(\n",
    "            name='odorant_info',\n",
    "            **odorant_info\n",
    "        )\n",
    "\n",
    "    # Create experimental block extension\n",
    "    block_info = {}\n",
    "    for block in [1, 2, 3]:\n",
    "        block_type_field = f'block{block}_type'\n",
    "        if block_type_field in session_metadata:\n",
    "            block_info[block_type_field] = ','.join(session_metadata[block_type_field])\n",
    "    \n",
    "    block_info_extension = None\n",
    "    if block_info:\n",
    "        block_info_extension = ExperimentalBlockExtension(\n",
    "            name='block_info',\n",
    "            **block_info\n",
    "        )\n",
    "\n",
    "    # Create preprocessed annotation extension\n",
    "    preprocessed_annotations = {}\n",
    "    \n",
    "    # Pattern for matching SWR and control channel metadata\n",
    "    annotation_patterns = [\n",
    "        r'imec(\\d+)_shank(\\d+)_SWR_channel',\n",
    "        r'imec(\\d+)_best_SWR_channel',\n",
    "        r'imec(\\d+)_best_control_channel'\n",
    "    ]\n",
    "    \n",
    "    # Find all keys in session_metadata that match our patterns\n",
    "    for key in session_metadata:\n",
    "        for pattern in annotation_patterns:\n",
    "            if re.match(pattern, key):\n",
    "                preprocessed_annotations[key] = session_metadata[key]\n",
    "                break\n",
    "    \n",
    "    annotation_extension = None\n",
    "    if preprocessed_annotations:\n",
    "        annotation_extension = PreprocessedAnnotationExtension(\n",
    "            name='preprocessed_annotations',\n",
    "            **preprocessed_annotations\n",
    "        )\n",
    "\n",
    "    # Prepare the metadata dictionary for LabMetaDataExtension\n",
    "    lab_metadata_dict = {\n",
    "        'name': 'LabMetaData',\n",
    "    }\n",
    "    \n",
    "    # Add probes if they exist\n",
    "    if probe1_extension:\n",
    "        lab_metadata_dict['probe1'] = probe1_extension\n",
    "    \n",
    "    if probe2_extension:\n",
    "        lab_metadata_dict['probe2'] = probe2_extension\n",
    "    \n",
    "    # Add other extensions if they exist\n",
    "    if odorant_info_extension:\n",
    "        lab_metadata_dict['odorant_info'] = odorant_info_extension\n",
    "    \n",
    "    if block_info_extension:\n",
    "        lab_metadata_dict['block_info'] = block_info_extension\n",
    "    \n",
    "    if annotation_extension:\n",
    "        lab_metadata_dict['preprocessed_annotations'] = annotation_extension\n",
    "\n",
    "    # Populate metadata extension \n",
    "    lab_metadata = LabMetaDataExtension(**lab_metadata_dict)\n",
    "\n",
    "    # Add to file\n",
    "    nwbfile.add_lab_meta_data(lab_metadata)\n"
   ]
  },
  {
   "cell_type": "code",
   "execution_count": null,
   "metadata": {},
   "outputs": [],
   "source": [
    "from neuroconv.datainterfaces.ecephys.spikeglx.spikeglxdatainterface import SpikeGLXRecordingInterface\n",
    "from neuroconv.tools.spikeinterface.spikeinterface import add_electrodes_info_to_nwbfile\n",
    "from dateutil.tz import tzlocal"
   ]
  },
  {
   "cell_type": "code",
   "execution_count": 29,
   "metadata": {},
   "outputs": [],
   "source": [
    "raw_session_dir = '/mnt/datasets/incoming/mvdm/OdorSequence/sourcedata/raw/M541/M541-2024-08-31_g0'\n",
    "test_interface = SpikeGLXRecordingInterface(folder_path=Path(raw_session_dir), stream_id='imec0.ap')\n",
    "raw_metadata = test_interface.get_metadata()"
   ]
  },
  {
   "cell_type": "code",
   "execution_count": 33,
   "metadata": {},
   "outputs": [
    {
     "data": {
      "text/plain": [
       "datetime.datetime(2024, 8, 31, 18, 2, 46, tzinfo=datetime.timezone(datetime.timedelta(days=-1, seconds=72000), 'EDT'))"
      ]
     },
     "execution_count": 33,
     "metadata": {},
     "output_type": "execute_result"
    }
   ],
   "source": [
    "raw_metadata['NWBFile']['session_start_time'].astimezone()"
   ]
  },
  {
   "cell_type": "code",
   "execution_count": null,
   "metadata": {},
   "outputs": [],
   "source": [
    "# Create an NWB file\n",
    "preprocessed_session_dir = '/mnt/datasets/incoming/mvdm/OdorSequence/sourcedata/preprocessed/M541/M541-2024-08-31'\n",
    "preprocessed_metadata = mu.parse_expkeys(preprocessed_session_dir)\n",
    "out_nwb = NWBFile(\n",
    "    session_description=\"my first synthetic recording\", #TODO: Can this be gleaned from exp keys?\n",
    "    identifier='-'.join([preprocessed_metadata['subject'], session_metadata['date']]),\n",
    "    # session_start_time=raw_metadata['NWBFile']['session_start_time'], # still needs timezone info, otherwise fails\n",
    "    session_start_time=datetime.now(tzlocal()), #TODO: Get from .meta file\n",
    "    experimenter=[\n",
    "        session_metadata['experimenter']\n",
    "    ],\n",
    "    lab=\"vandermeerlab\",\n",
    "    institution=\"Dartmouth College\",\n",
    "    experiment_description=\"Head-fixed mouse presented with odor sequences\",\n",
    "    keywords=[\"ecephys\", \"exploration\", \"wanderlust\"], #TODO: Needs editing\n",
    "    )"
   ]
  },
  {
   "cell_type": "code",
   "execution_count": 40,
   "metadata": {},
   "outputs": [
    {
     "data": {
      "text/plain": [
       "True"
      ]
     },
     "execution_count": 40,
     "metadata": {},
     "output_type": "execute_result"
    }
   ],
   "source": [
    "isinstance(out_nwb, pynwb.NWBFile)"
   ]
  },
  {
   "cell_type": "code",
   "execution_count": 41,
   "metadata": {},
   "outputs": [],
   "source": [
    "add_electrodes_info_to_nwbfile(recording=test_interface.recording_extractor, nwbfile=out_nwb, metadata=raw_metadata)"
   ]
  },
  {
   "cell_type": "code",
   "execution_count": 42,
   "metadata": {},
   "outputs": [
    {
     "data": {
      "text/html": [
       "\n",
       "        <style>\n",
       "            .container-fields {\n",
       "                font-family: \"Open Sans\", Arial, sans-serif;\n",
       "            }\n",
       "            .container-fields .field-value {\n",
       "                color: #00788E;\n",
       "            }\n",
       "            .container-fields details > summary {\n",
       "                cursor: pointer;\n",
       "                display: list-item;\n",
       "            }\n",
       "            .container-fields details > summary:hover {\n",
       "                color: #0A6EAA;\n",
       "            }\n",
       "        </style>\n",
       "        \n",
       "        <script>\n",
       "            function copyToClipboard(text) {\n",
       "                navigator.clipboard.writeText(text).then(function() {\n",
       "                    console.log('Copied to clipboard: ' + text);\n",
       "                }, function(err) {\n",
       "                    console.error('Could not copy text: ', err);\n",
       "                });\n",
       "            }\n",
       "\n",
       "            document.addEventListener('DOMContentLoaded', function() {\n",
       "                let fieldKeys = document.querySelectorAll('.container-fields .field-key');\n",
       "                fieldKeys.forEach(function(fieldKey) {\n",
       "                    fieldKey.addEventListener('click', function() {\n",
       "                        let accessCode = fieldKey.getAttribute('title').replace('Access code: ', '');\n",
       "                        copyToClipboard(accessCode);\n",
       "                    });\n",
       "                });\n",
       "            });\n",
       "        </script>\n",
       "        <div class='container-wrap'><div class='container-header'><div class='xr-obj-type'><h3>root (NWBFile)</h3></div></div><div style=\"margin-left: 0px;\" class=\"container-fields\"><span class=\"field-key\" title=\".session_description\">session_description: </span><span class=\"field-value\">my first synthetic recording</span></div><div style=\"margin-left: 0px;\" class=\"container-fields\"><span class=\"field-key\" title=\".identifier\">identifier: </span><span class=\"field-value\">M541-2024-08-31</span></div><details><summary style=\"display: list-item; margin-left: 0px;\" class=\"container-fields field-key\" title=\".session_start_time\"><b>session_start_time</b></summary><span class=\"field-key\">2025-03-05 16:58:30.746395-05:00</span></details><details><summary style=\"display: list-item; margin-left: 0px;\" class=\"container-fields field-key\" title=\".timestamps_reference_time\"><b>timestamps_reference_time</b></summary><span class=\"field-key\">2025-03-05 16:58:30.746395-05:00</span></details><details><summary style=\"display: list-item; margin-left: 0px;\" class=\"container-fields field-key\" title=\".file_create_date\"><b>file_create_date</b></summary><details><summary style=\"display: list-item; margin-left: 20px;\" class=\"container-fields field-key\" title=\".file_create_date[0]\"><b>0</b></summary><span class=\"field-key\">2025-03-05 16:58:30.748107-05:00</span></details></details><details><summary style=\"display: list-item; margin-left: 0px;\" class=\"container-fields field-key\" title=\".experimenter\"><b>experimenter</b></summary><div style=\"margin-left: 20px;\" class=\"container-fields\"><span class=\"field-key\" title=\".experimenter[0]\">0: </span><span class=\"field-value\">Mohapatra, Manish</span></div></details><details><summary style=\"display: list-item; margin-left: 0px;\" class=\"container-fields field-key\" title=\".keywords\"><b>keywords</b></summary><div style=\"margin-left: 20px;\" class=\"container-fields\"><span class=\"field-key\" title=\".keywords[0]\">0: </span><span class=\"field-value\">ecephys</span></div><div style=\"margin-left: 20px;\" class=\"container-fields\"><span class=\"field-key\" title=\".keywords[0][1]\">1: </span><span class=\"field-value\">exploration</span></div><div style=\"margin-left: 20px;\" class=\"container-fields\"><span class=\"field-key\" title=\".keywords[0][1][2]\">2: </span><span class=\"field-value\">wanderlust</span></div></details><div style=\"margin-left: 0px;\" class=\"container-fields\"><span class=\"field-key\" title=\".experiment_description\">experiment_description: </span><span class=\"field-value\">Head-fixed mouse presented with odor sequences</span></div><div style=\"margin-left: 0px;\" class=\"container-fields\"><span class=\"field-key\" title=\".lab\">lab: </span><span class=\"field-value\">vandermeerlab</span></div><div style=\"margin-left: 0px;\" class=\"container-fields\"><span class=\"field-key\" title=\".institution\">institution: </span><span class=\"field-value\">Dartmouth College</span></div><details><summary style=\"display: list-item; margin-left: 0px;\" class=\"container-fields field-key\" title=\".devices\"><b>devices</b></summary><details><summary style=\"display: list-item; margin-left: 20px;\" class=\"container-fields field-key\" title=\".devices['NeuropixelsImec0']\"><b>NeuropixelsImec0</b></summary><div style=\"margin-left: 40px;\" class=\"container-fields\"><span class=\"field-key\" title=\".devices['NeuropixelsImec0'].description\">description: </span><span class=\"field-value\">{\"probe_type\": \"2013\", \"probe_type_description\": \"Unknown SpikeGLX probe type.\", \"flex_part_number\": \"NPM_FLEX_01\", \"connected_base_station_part_number\": \"NP2_QBSC_00\"}</span></div><div style=\"margin-left: 40px;\" class=\"container-fields\"><span class=\"field-key\" title=\".devices['NeuropixelsImec0'].manufacturer\">manufacturer: </span><span class=\"field-value\">Imec</span></div></details></details><details><summary style=\"display: list-item; margin-left: 0px;\" class=\"container-fields field-key\" title=\".electrode_groups\"><b>electrode_groups</b></summary><details><summary style=\"display: list-item; margin-left: 20px;\" class=\"container-fields field-key\" title=\".electrode_groups['NeuropixelsImec0Shank3']\"><b>NeuropixelsImec0Shank3</b></summary><div style=\"margin-left: 40px;\" class=\"container-fields\"><span class=\"field-key\" title=\".electrode_groups['NeuropixelsImec0Shank3'].description\">description: </span><span class=\"field-value\">A group representing probe/shank 'NeuropixelsImec0Shank3'.</span></div><div style=\"margin-left: 40px;\" class=\"container-fields\"><span class=\"field-key\" title=\".electrode_groups['NeuropixelsImec0Shank3'].location\">location: </span><span class=\"field-value\">unknown</span></div><details><summary style=\"display: list-item; margin-left: 40px;\" class=\"container-fields field-key\" title=\".electrode_groups['NeuropixelsImec0Shank3'].device\"><b>device</b></summary><div style=\"margin-left: 60px;\" class=\"container-fields\"><span class=\"field-key\" title=\".electrode_groups['NeuropixelsImec0Shank3'].device.description\">description: </span><span class=\"field-value\">{\"probe_type\": \"2013\", \"probe_type_description\": \"Unknown SpikeGLX probe type.\", \"flex_part_number\": \"NPM_FLEX_01\", \"connected_base_station_part_number\": \"NP2_QBSC_00\"}</span></div><div style=\"margin-left: 60px;\" class=\"container-fields\"><span class=\"field-key\" title=\".electrode_groups['NeuropixelsImec0Shank3'].device.manufacturer\">manufacturer: </span><span class=\"field-value\">Imec</span></div></details></details><details><summary style=\"display: list-item; margin-left: 20px;\" class=\"container-fields field-key\" title=\".electrode_groups['NeuropixelsImec0Shank0']\"><b>NeuropixelsImec0Shank0</b></summary><div style=\"margin-left: 40px;\" class=\"container-fields\"><span class=\"field-key\" title=\".electrode_groups['NeuropixelsImec0Shank0'].description\">description: </span><span class=\"field-value\">A group representing probe/shank 'NeuropixelsImec0Shank0'.</span></div><div style=\"margin-left: 40px;\" class=\"container-fields\"><span class=\"field-key\" title=\".electrode_groups['NeuropixelsImec0Shank0'].location\">location: </span><span class=\"field-value\">unknown</span></div><details><summary style=\"display: list-item; margin-left: 40px;\" class=\"container-fields field-key\" title=\".electrode_groups['NeuropixelsImec0Shank0'].device\"><b>device</b></summary><div style=\"margin-left: 60px;\" class=\"container-fields\"><span class=\"field-key\" title=\".electrode_groups['NeuropixelsImec0Shank0'].device.description\">description: </span><span class=\"field-value\">{\"probe_type\": \"2013\", \"probe_type_description\": \"Unknown SpikeGLX probe type.\", \"flex_part_number\": \"NPM_FLEX_01\", \"connected_base_station_part_number\": \"NP2_QBSC_00\"}</span></div><div style=\"margin-left: 60px;\" class=\"container-fields\"><span class=\"field-key\" title=\".electrode_groups['NeuropixelsImec0Shank0'].device.manufacturer\">manufacturer: </span><span class=\"field-value\">Imec</span></div></details></details><details><summary style=\"display: list-item; margin-left: 20px;\" class=\"container-fields field-key\" title=\".electrode_groups['NeuropixelsImec0Shank2']\"><b>NeuropixelsImec0Shank2</b></summary><div style=\"margin-left: 40px;\" class=\"container-fields\"><span class=\"field-key\" title=\".electrode_groups['NeuropixelsImec0Shank2'].description\">description: </span><span class=\"field-value\">A group representing probe/shank 'NeuropixelsImec0Shank2'.</span></div><div style=\"margin-left: 40px;\" class=\"container-fields\"><span class=\"field-key\" title=\".electrode_groups['NeuropixelsImec0Shank2'].location\">location: </span><span class=\"field-value\">unknown</span></div><details><summary style=\"display: list-item; margin-left: 40px;\" class=\"container-fields field-key\" title=\".electrode_groups['NeuropixelsImec0Shank2'].device\"><b>device</b></summary><div style=\"margin-left: 60px;\" class=\"container-fields\"><span class=\"field-key\" title=\".electrode_groups['NeuropixelsImec0Shank2'].device.description\">description: </span><span class=\"field-value\">{\"probe_type\": \"2013\", \"probe_type_description\": \"Unknown SpikeGLX probe type.\", \"flex_part_number\": \"NPM_FLEX_01\", \"connected_base_station_part_number\": \"NP2_QBSC_00\"}</span></div><div style=\"margin-left: 60px;\" class=\"container-fields\"><span class=\"field-key\" title=\".electrode_groups['NeuropixelsImec0Shank2'].device.manufacturer\">manufacturer: </span><span class=\"field-value\">Imec</span></div></details></details><details><summary style=\"display: list-item; margin-left: 20px;\" class=\"container-fields field-key\" title=\".electrode_groups['NeuropixelsImec0Shank1']\"><b>NeuropixelsImec0Shank1</b></summary><div style=\"margin-left: 40px;\" class=\"container-fields\"><span class=\"field-key\" title=\".electrode_groups['NeuropixelsImec0Shank1'].description\">description: </span><span class=\"field-value\">A group representing probe/shank 'NeuropixelsImec0Shank1'.</span></div><div style=\"margin-left: 40px;\" class=\"container-fields\"><span class=\"field-key\" title=\".electrode_groups['NeuropixelsImec0Shank1'].location\">location: </span><span class=\"field-value\">unknown</span></div><details><summary style=\"display: list-item; margin-left: 40px;\" class=\"container-fields field-key\" title=\".electrode_groups['NeuropixelsImec0Shank1'].device\"><b>device</b></summary><div style=\"margin-left: 60px;\" class=\"container-fields\"><span class=\"field-key\" title=\".electrode_groups['NeuropixelsImec0Shank1'].device.description\">description: </span><span class=\"field-value\">{\"probe_type\": \"2013\", \"probe_type_description\": \"Unknown SpikeGLX probe type.\", \"flex_part_number\": \"NPM_FLEX_01\", \"connected_base_station_part_number\": \"NP2_QBSC_00\"}</span></div><div style=\"margin-left: 60px;\" class=\"container-fields\"><span class=\"field-key\" title=\".electrode_groups['NeuropixelsImec0Shank1'].device.manufacturer\">manufacturer: </span><span class=\"field-value\">Imec</span></div></details></details></details><details><summary style=\"display: list-item; margin-left: 0px;\" class=\"container-fields field-key\" title=\".electrodes\"><b>electrodes</b></summary><div style=\"margin-left: 20px;\" class=\"container-fields\"><span class=\"field-key\" title=\".electrodes\">description: </span><span class=\"field-value\">metadata about extracellular electrodes</span></div><details><summary style=\"display: list-item; margin-left: 20px;\" class=\"container-fields field-key\" title=\".electrodes\"><b>table</b></summary><table border=\"1\" class=\"dataframe\">\n",
       "  <thead>\n",
       "    <tr style=\"text-align: right;\">\n",
       "      <th></th>\n",
       "      <th>location</th>\n",
       "      <th>group</th>\n",
       "      <th>group_name</th>\n",
       "      <th>channel_name</th>\n",
       "      <th>rel_x</th>\n",
       "      <th>contact_shapes</th>\n",
       "      <th>shank_ids</th>\n",
       "      <th>inter_sample_shift</th>\n",
       "      <th>contact_ids</th>\n",
       "      <th>rel_y</th>\n",
       "    </tr>\n",
       "    <tr>\n",
       "      <th>id</th>\n",
       "      <th></th>\n",
       "      <th></th>\n",
       "      <th></th>\n",
       "      <th></th>\n",
       "      <th></th>\n",
       "      <th></th>\n",
       "      <th></th>\n",
       "      <th></th>\n",
       "      <th></th>\n",
       "      <th></th>\n",
       "    </tr>\n",
       "  </thead>\n",
       "  <tbody>\n",
       "    <tr>\n",
       "      <th>0</th>\n",
       "      <td>unknown</td>\n",
       "      <td>NeuropixelsImec0Shank2 pynwb.ecephys.ElectrodeGroup at 0x139807459877520\\nFields:\\n  description: A group representing probe/shank 'NeuropixelsImec0Shank2'.\\n  device: NeuropixelsImec0 pynwb.device.Device at 0x139807459880592\\nFields:\\n  description: {\"probe_type\": \"2013\", \"probe_type_description\": \"Unknown SpikeGLX probe type.\", \"flex_part_number\": \"NPM_FLEX_01\", \"connected_base_station_part_number\": \"NP2_QBSC_00\"}\\n  manufacturer: Imec\\n\\n  location: unknown\\n</td>\n",
       "      <td>NeuropixelsImec0Shank2</td>\n",
       "      <td>AP0</td>\n",
       "      <td>500.0</td>\n",
       "      <td>square</td>\n",
       "      <td>2</td>\n",
       "      <td>0.000000</td>\n",
       "      <td>s2e96</td>\n",
       "      <td>720.0</td>\n",
       "    </tr>\n",
       "    <tr>\n",
       "      <th>1</th>\n",
       "      <td>unknown</td>\n",
       "      <td>NeuropixelsImec0Shank2 pynwb.ecephys.ElectrodeGroup at 0x139807459877520\\nFields:\\n  description: A group representing probe/shank 'NeuropixelsImec0Shank2'.\\n  device: NeuropixelsImec0 pynwb.device.Device at 0x139807459880592\\nFields:\\n  description: {\"probe_type\": \"2013\", \"probe_type_description\": \"Unknown SpikeGLX probe type.\", \"flex_part_number\": \"NPM_FLEX_01\", \"connected_base_station_part_number\": \"NP2_QBSC_00\"}\\n  manufacturer: Imec\\n\\n  location: unknown\\n</td>\n",
       "      <td>NeuropixelsImec0Shank2</td>\n",
       "      <td>AP1</td>\n",
       "      <td>532.0</td>\n",
       "      <td>square</td>\n",
       "      <td>2</td>\n",
       "      <td>0.000000</td>\n",
       "      <td>s2e97</td>\n",
       "      <td>720.0</td>\n",
       "    </tr>\n",
       "    <tr>\n",
       "      <th>2</th>\n",
       "      <td>unknown</td>\n",
       "      <td>NeuropixelsImec0Shank2 pynwb.ecephys.ElectrodeGroup at 0x139807459877520\\nFields:\\n  description: A group representing probe/shank 'NeuropixelsImec0Shank2'.\\n  device: NeuropixelsImec0 pynwb.device.Device at 0x139807459880592\\nFields:\\n  description: {\"probe_type\": \"2013\", \"probe_type_description\": \"Unknown SpikeGLX probe type.\", \"flex_part_number\": \"NPM_FLEX_01\", \"connected_base_station_part_number\": \"NP2_QBSC_00\"}\\n  manufacturer: Imec\\n\\n  location: unknown\\n</td>\n",
       "      <td>NeuropixelsImec0Shank2</td>\n",
       "      <td>AP2</td>\n",
       "      <td>500.0</td>\n",
       "      <td>square</td>\n",
       "      <td>2</td>\n",
       "      <td>0.076923</td>\n",
       "      <td>s2e98</td>\n",
       "      <td>735.0</td>\n",
       "    </tr>\n",
       "    <tr>\n",
       "      <th>3</th>\n",
       "      <td>unknown</td>\n",
       "      <td>NeuropixelsImec0Shank2 pynwb.ecephys.ElectrodeGroup at 0x139807459877520\\nFields:\\n  description: A group representing probe/shank 'NeuropixelsImec0Shank2'.\\n  device: NeuropixelsImec0 pynwb.device.Device at 0x139807459880592\\nFields:\\n  description: {\"probe_type\": \"2013\", \"probe_type_description\": \"Unknown SpikeGLX probe type.\", \"flex_part_number\": \"NPM_FLEX_01\", \"connected_base_station_part_number\": \"NP2_QBSC_00\"}\\n  manufacturer: Imec\\n\\n  location: unknown\\n</td>\n",
       "      <td>NeuropixelsImec0Shank2</td>\n",
       "      <td>AP3</td>\n",
       "      <td>532.0</td>\n",
       "      <td>square</td>\n",
       "      <td>2</td>\n",
       "      <td>0.076923</td>\n",
       "      <td>s2e99</td>\n",
       "      <td>735.0</td>\n",
       "    </tr>\n",
       "  </tbody>\n",
       "</table><p>... and 380 more rows.</p></details></details></div>"
      ],
      "text/plain": [
       "root pynwb.file.NWBFile at 0x139807459878576\n",
       "Fields:\n",
       "  devices: {\n",
       "    NeuropixelsImec0 <class 'pynwb.device.Device'>\n",
       "  }\n",
       "  electrode_groups: {\n",
       "    NeuropixelsImec0Shank0 <class 'pynwb.ecephys.ElectrodeGroup'>,\n",
       "    NeuropixelsImec0Shank1 <class 'pynwb.ecephys.ElectrodeGroup'>,\n",
       "    NeuropixelsImec0Shank2 <class 'pynwb.ecephys.ElectrodeGroup'>,\n",
       "    NeuropixelsImec0Shank3 <class 'pynwb.ecephys.ElectrodeGroup'>\n",
       "  }\n",
       "  electrodes: electrodes <class 'hdmf.common.table.DynamicTable'>\n",
       "  experiment_description: Head-fixed mouse presented with odor sequences\n",
       "  experimenter: ['Mohapatra, Manish']\n",
       "  file_create_date: [datetime.datetime(2025, 3, 5, 16, 58, 30, 748107, tzinfo=tzlocal())]\n",
       "  identifier: M541-2024-08-31\n",
       "  institution: Dartmouth College\n",
       "  keywords: ['ecephys' 'exploration' 'wanderlust']\n",
       "  lab: vandermeerlab\n",
       "  session_description: my first synthetic recording\n",
       "  session_start_time: 2025-03-05 16:58:30.746395-05:00\n",
       "  timestamps_reference_time: 2025-03-05 16:58:30.746395-05:00"
      ]
     },
     "execution_count": 42,
     "metadata": {},
     "output_type": "execute_result"
    }
   ],
   "source": [
    "out_nwb"
   ]
  },
  {
   "cell_type": "code",
   "execution_count": null,
   "metadata": {},
   "outputs": [],
   "source": [
    "# Add LFP electrodes and devices\n",
    "device_labels = []\n",
    "if os.path.exists(session_dir + \"//imec0_clean_lfp.mat\"):\n",
    "    device_labels.append(\"imec0\")\n",
    "if os.path.exists(session_dir + \"//imec1_clean_lfp.mat\"):\n",
    "    device_labels.append(\"imec1\")\n",
    "# add LFP electrodes table to nwb file\n",
    "mnc.add_lfp_electrodes_to_nwb(session_dir, out_nwb, session_metadata, device_labels)\n",
    "# add LFP traces to nwb file\n",
    "mnc.add_lfp_data_to_nwb(session_dir, out_nwb, session_metadata, device_labels)"
   ]
  },
  {
   "cell_type": "code",
   "execution_count": null,
   "metadata": {},
   "outputs": [],
   "source": [
    "# Add sorting electrodes and devices\n",
    "device_labels = []\n",
    "if os.path.exists(session_dir + \"//clean_units_imec0.mat\"):\n",
    "    device_labels.append(\"imec0\")\n",
    "if os.path.exists(session_dir + \"//clean_units_imec1.mat\"):\n",
    "    device_labels.append(\"imec1\")\n",
    "mnc.add_sorting_electrodes_to_nwb(session_dir, out_nwb, session_metadata, device_labels)\n",
    "# add spike times, waveforms, and other information to nwb file\n",
    "mnc.add_sorting_data_to_nwb(session_dir, out_nwb, session_metadata, device_labels)"
   ]
  },
  {
   "cell_type": "code",
   "execution_count": null,
   "metadata": {},
   "outputs": [],
   "source": [
    "# Add behavioral epoohs\n",
    "mnc.add_intervals_to_nwb(out_nwb, session_metadata)"
   ]
  },
  {
   "cell_type": "code",
   "execution_count": null,
   "metadata": {},
   "outputs": [],
   "source": [
    "# Add lab metadata using the new extension\n",
    "add_lab_metadata_to_nwb(session_dir, out_nwb, session_metadata)"
   ]
  },
  {
   "cell_type": "markdown",
   "metadata": {},
   "source": [
    "### Write the actual NWB File"
   ]
  },
  {
   "cell_type": "code",
   "execution_count": null,
   "metadata": {},
   "outputs": [],
   "source": [
    "io = NWBHDF5IO(\"E:\\\\odor-pixels\\\\fromHector\\\\NoReward\\\\M541\\\\M541-2024-08-31\\\\test_metadata.nwb\", mode='w')\n",
    "io.write(out_nwb)\n",
    "io.close() # This is crtitcal and nwbinspector won't work without it"
   ]
  },
  {
   "cell_type": "code",
   "execution_count": null,
   "metadata": {},
   "outputs": [],
   "source": [
    "out_nwb"
   ]
  },
  {
   "cell_type": "code",
   "execution_count": null,
   "metadata": {},
   "outputs": [],
   "source": [
    "io = NWBHDF5IO(\"E:\\\\odor-pixels\\\\fromHector\\\\NoReward\\\\M541\\\\M541-2024-08-31\\\\test_2024-08-31.nwb\", mode='r')"
   ]
  },
  {
   "cell_type": "code",
   "execution_count": null,
   "metadata": {},
   "outputs": [],
   "source": [
    "out_nwb2 = io.read()\n",
    "out_nwb2"
   ]
  }
 ],
 "metadata": {
  "kernelspec": {
   "display_name": "mvdmlab_preproc_nwbconverter",
   "language": "python",
   "name": "python3"
  },
  "language_info": {
   "codemirror_mode": {
    "name": "ipython",
    "version": 3
   },
   "file_extension": ".py",
   "mimetype": "text/x-python",
   "name": "python",
   "nbconvert_exporter": "python",
   "pygments_lexer": "ipython3",
   "version": "3.10.16"
  }
 },
 "nbformat": 4,
 "nbformat_minor": 2
}
