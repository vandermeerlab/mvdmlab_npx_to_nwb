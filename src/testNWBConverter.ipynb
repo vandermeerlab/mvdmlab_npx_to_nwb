{
 "cells": [
  {
   "cell_type": "code",
   "execution_count": null,
   "metadata": {},
   "outputs": [],
   "source": [
    "from pathlib import Path\n",
    "import datetime\n",
    "from zoneinfo import ZoneInfo\n",
    "import shutil\n",
    "from neuroconv.utils import load_dict_from_file, dict_deep_update\n",
    "import h5py\n",
    "import numpy as np\n",
    "from pynwb import NWBHDF5IO, NWBFile"
   ]
  },
  {
   "cell_type": "code",
   "execution_count": 32,
   "metadata": {},
   "outputs": [],
   "source": [
    "import pynwb"
   ]
  },
  {
   "cell_type": "code",
   "execution_count": null,
   "metadata": {},
   "outputs": [],
   "source": [
    "from manimoh_nwb_converters import OdorSeqNWBConverter\n"
   ]
  },
  {
   "cell_type": "code",
   "execution_count": 8,
   "metadata": {},
   "outputs": [],
   "source": [
    "file = h5py.File('E:\\\\odor-pixels\\\\M541-2024-08-31\\\\imec0_clean_lfp.mat', 'r') "
   ]
  },
  {
   "cell_type": "code",
   "execution_count": 9,
   "metadata": {},
   "outputs": [
    {
     "data": {
      "text/plain": [
       "<KeysViewHDF5 ['channel_ids', 'depths', 'lfp_fs', 'lfp_traces', 'lfp_tvec', 'shank_ids']>"
      ]
     },
     "execution_count": 9,
     "metadata": {},
     "output_type": "execute_result"
    }
   ],
   "source": [
    "file['imec0'].keys()"
   ]
  },
  {
   "cell_type": "code",
   "execution_count": 10,
   "metadata": {},
   "outputs": [
    {
     "data": {
      "text/plain": [
       "array(['imec0.ap#AP112', 'imec0.ap#AP126', 'imec0.ap#AP138',\n",
       "       'imec0.ap#AP200', 'imec0.ap#AP214', 'imec0.ap#AP226',\n",
       "       'imec0.ap#AP288', 'imec0.ap#AP302', 'imec0.ap#AP162',\n",
       "       'imec0.ap#AP176', 'imec0.ap#AP188', 'imec0.ap#AP250',\n",
       "       'imec0.ap#AP264', 'imec0.ap#AP276', 'imec0.ap#AP338',\n",
       "       'imec0.ap#AP352', 'imec0.ap#AP304', 'imec0.ap#AP318',\n",
       "       'imec0.ap#AP330', 'imec0.ap#AP8', 'imec0.ap#AP22', 'imec0.ap#AP34',\n",
       "       'imec0.ap#AP96', 'imec0.ap#AP110', 'imec0.ap#AP354',\n",
       "       'imec0.ap#AP368', 'imec0.ap#AP380', 'imec0.ap#AP58',\n",
       "       'imec0.ap#AP72', 'imec0.ap#AP84', 'imec0.ap#AP146',\n",
       "       'imec0.ap#AP160'], dtype='<U14')"
      ]
     },
     "execution_count": 10,
     "metadata": {},
     "output_type": "execute_result"
    }
   ],
   "source": [
    "# Code to get channel ids in array\n",
    "q = np.asarray(file['imec0']['channel_ids'][:], dtype='uint32')\n",
    "q = q.T.view('U1')\n",
    "channel_ids = np.asarray([''.join(x).strip() for x in q])\n",
    "channel_ids"
   ]
  },
  {
   "cell_type": "code",
   "execution_count": 11,
   "metadata": {},
   "outputs": [
    {
     "data": {
      "text/plain": [
       "array([0, 0, 0, 0, 0, 0, 0, 0, 1, 1, 1, 1, 1, 1, 1, 1, 2, 2, 2, 2, 2, 2,\n",
       "       2, 2, 3, 3, 3, 3, 3, 3, 3, 3])"
      ]
     },
     "execution_count": 11,
     "metadata": {},
     "output_type": "execute_result"
    }
   ],
   "source": [
    "# Code to get shank_ids in array\n",
    "shank_id = file['imec0']['shank_ids'][:].flatten()\n",
    "shank_id\n"
   ]
  },
  {
   "cell_type": "code",
   "execution_count": 12,
   "metadata": {},
   "outputs": [
    {
     "data": {
      "text/plain": [
       "array([ 480.,  585.,  675.,  780.,  885.,  975., 1080., 1185.,  495.,\n",
       "        600.,  690.,  795.,  900.,  990., 1095., 1200.,  480.,  585.,\n",
       "        675.,  780.,  885.,  975., 1080., 1185.,  495.,  600.,  690.,\n",
       "        795.,  900.,  990., 1095., 1200.])"
      ]
     },
     "execution_count": 12,
     "metadata": {},
     "output_type": "execute_result"
    }
   ],
   "source": [
    "# Code to get depths ids in array TODO: Needs subtraction from ExpKeys.recordingDepth\n",
    "depths = file['imec0']['depths'][:].flatten()\n",
    "depths"
   ]
  },
  {
   "cell_type": "code",
   "execution_count": 13,
   "metadata": {},
   "outputs": [
    {
     "data": {
      "text/plain": [
       "2500.0"
      ]
     },
     "execution_count": 13,
     "metadata": {},
     "output_type": "execute_result"
    }
   ],
   "source": [
    "# Code to get lfp_fs\n",
    "lfp_fs = file['imec0']['lfp_fs'][:].flatten()\n",
    "lfp_fs[0]"
   ]
  },
  {
   "cell_type": "code",
   "execution_count": 14,
   "metadata": {},
   "outputs": [
    {
     "data": {
      "text/plain": [
       "array([0.0000000e+00, 4.0000000e-04, 8.0000000e-04, ..., 6.1901092e+03,\n",
       "       6.1901096e+03, 6.1901100e+03])"
      ]
     },
     "execution_count": 14,
     "metadata": {},
     "output_type": "execute_result"
    }
   ],
   "source": [
    "# Code to get lfp_tvec in array\n",
    "lfp_tvec = file['imec0']['lfp_tvec'][:].flatten()\n",
    "lfp_tvec"
   ]
  },
  {
   "cell_type": "code",
   "execution_count": 15,
   "metadata": {},
   "outputs": [
    {
     "data": {
      "text/plain": [
       "array([[ -30.273438 ,  -48.4375   ,  -33.30078  , ...,  -18.164062 ,\n",
       "          -6.0546875,  -27.246094 ],\n",
       "       [  48.4375   ,  169.53125  ,    6.0546875, ...,   93.84766  ,\n",
       "          84.765625 ,  -27.246094 ],\n",
       "       [ 102.92969  ,  320.89844  ,   30.273438 , ...,  169.53125  ,\n",
       "         151.36719  ,  -27.246094 ],\n",
       "       ...,\n",
       "       [-118.06641  , -136.23047  ,  -18.164062 , ..., -163.47656  ,\n",
       "        -193.75     , -133.20312  ],\n",
       "       [-105.95703  , -112.01172  ,    9.082031 , ..., -148.33984  ,\n",
       "        -190.72266  , -124.12109  ],\n",
       "       [ -93.84766  ,  -81.73828  ,   36.328125 , ..., -127.14844  ,\n",
       "        -181.64062  , -112.01172  ]], dtype=float32)"
      ]
     },
     "execution_count": 15,
     "metadata": {},
     "output_type": "execute_result"
    }
   ],
   "source": [
    "# Code to get lfp_traces in array\n",
    "lfp_data= file['imec0']['lfp_traces'][:]\n",
    "lfp_data = np.transpose(lfp_data)\n",
    "lfp_data"
   ]
  },
  {
   "cell_type": "code",
   "execution_count": 21,
   "metadata": {},
   "outputs": [],
   "source": [
    "from uuid import uuid4\n",
    "from datetime import datetime\n",
    "from dateutil.tz import tzlocal"
   ]
  },
  {
   "cell_type": "code",
   "execution_count": null,
   "metadata": {},
   "outputs": [],
   "source": [
    "nwbfile = NWBFile(\n",
    "    session_description=\"my first synthetic recording\",\n",
    "    identifier='-'.join([expkeys['subject'], expkeys['date']]),\n",
    "    session_start_time=datetime.now(tzlocal()), # Get from .meta file\n",
    "    experimenter=[\n",
    "        \"\"Mohapatra, Manish\",\"\n",
    "    ],\n",
    "    lab=\"vandermeerlab\",\n",
    "    institution=\"Dartmouth College\",\n",
    "    experiment_description=\"Head-fixed mouse presented with odor sequences\",\n",
    "    keywords=[\"ecephys\", \"exploration\", \"wanderlust\"],\n",
    ")\n",
    "device = nwbfile.create_device(\n",
    "    name=\"imec0\", description=\"NPX2.0\", manufacturer=\"IMEC\"\n",
    ")\n",
    "nwbfile.add_electrode_column(name=\"channel_id\", description=\"Identifier for the channel on the probe\")\n",
    "\n",
    "unique_shanks = np.unique(shank_id).tolist()\n",
    "electrode_counter = 0\n",
    "for iShank in unique_shanks:\n",
    "    electrode_group = nwbfile.create_electrode_group(\n",
    "        name=\"shank{}\".format(iShank),\n",
    "        description=\"electrode group for shank {}\".format(iShank),\n",
    "        device=device,\n",
    "        location=\"brain area\", # Need to figure this out, should this be the same as depth\n",
    "    )\n",
    "    # add electrodes to the electrode table\n",
    "    for ielec,elec in enumerate(np.where(shank_id == iShank)[0]):\n",
    "        # print\n",
    "        nwbfile.add_electrode(\n",
    "            group=electrode_group,\n",
    "            channel_id = channel_ids[elec],\n",
    "            location=\"brain area\",  # Need to figure this out, should this be the same as depth\n",
    "        )\n",
    "        electrode_counter += 1\n",
    "\n",
    "# nwbfile.electrodes.to_dataframe() # Distplay the electrode table"
   ]
  },
  {
   "cell_type": "code",
   "execution_count": null,
   "metadata": {},
   "outputs": [],
   "source": [
    "lfp_table = nwbfile.create_electrode_table_region(\n",
    "    region=list(range(electrode_counter)),  # reference row indices 0 to N-1\n",
    "    description=\"LFP electrodes\",\n",
    ")"
   ]
  },
  {
   "cell_type": "code",
   "execution_count": null,
   "metadata": {},
   "outputs": [],
   "source": [
    "from pynwb.ecephys import ElectricalSeries, LFP\n",
    "lfp_es = ElectricalSeries(name='LFP', data=lfp_data, electrodes=lfp_table, rate=lfp_fs[0], starting_time=lfp_tvec[0])\n",
    "ecephys_module = nwbfile.create_processing_module(\n",
    "    name=\"ecephys\", description=\"processed extracellular electrophysiology data\"\n",
    ")\n",
    "ecephys_module.add(lfp_es)\n",
    "# TODO: Add conversion factor from .meta file , but we already get 'scaled data' from spikeinterface'"
   ]
  },
  {
   "cell_type": "code",
   "execution_count": null,
   "metadata": {},
   "outputs": [],
   "source": [
    "with NWBHDF5IO(\"E:\\\\odor-pixels\\\\M541-2024-08-31\\\\test.nwb\", \"w\") as io:\n",
    "    io.write(nwbfile)"
   ]
  },
  {
   "cell_type": "code",
   "execution_count": 35,
   "metadata": {},
   "outputs": [],
   "source": [
    "with NWBHDF5IO(\"E:\\\\odor-pixels\\\\M541-2024-08-31\\\\test.nwb\", \"r\") as io:\n",
    "    nwbfile = io.read()"
   ]
  },
  {
   "cell_type": "code",
   "execution_count": 49,
   "metadata": {},
   "outputs": [
    {
     "data": {
      "text/html": [
       "\n",
       "        <style>\n",
       "            .container-fields {\n",
       "                font-family: \"Open Sans\", Arial, sans-serif;\n",
       "            }\n",
       "            .container-fields .field-value {\n",
       "                color: #00788E;\n",
       "            }\n",
       "            .container-fields details > summary {\n",
       "                cursor: pointer;\n",
       "                display: list-item;\n",
       "            }\n",
       "            .container-fields details > summary:hover {\n",
       "                color: #0A6EAA;\n",
       "            }\n",
       "        </style>\n",
       "        \n",
       "        <script>\n",
       "            function copyToClipboard(text) {\n",
       "                navigator.clipboard.writeText(text).then(function() {\n",
       "                    console.log('Copied to clipboard: ' + text);\n",
       "                }, function(err) {\n",
       "                    console.error('Could not copy text: ', err);\n",
       "                });\n",
       "            }\n",
       "\n",
       "            document.addEventListener('DOMContentLoaded', function() {\n",
       "                let fieldKeys = document.querySelectorAll('.container-fields .field-key');\n",
       "                fieldKeys.forEach(function(fieldKey) {\n",
       "                    fieldKey.addEventListener('click', function() {\n",
       "                        let accessCode = fieldKey.getAttribute('title').replace('Access code: ', '');\n",
       "                        copyToClipboard(accessCode);\n",
       "                    });\n",
       "                });\n",
       "            });\n",
       "        </script>\n",
       "        <div class='container-wrap'><div class='container-header'><div class='xr-obj-type'><h3>root (NWBFile)</h3></div></div><div style=\"margin-left: 0px;\" class=\"container-fields\"><span class=\"field-key\" title=\".session_description\">session_description: </span><span class=\"field-value\">my first synthetic recording</span></div><div style=\"margin-left: 0px;\" class=\"container-fields\"><span class=\"field-key\" title=\".identifier\">identifier: </span><span class=\"field-value\">M541-2024-08-31</span></div><details><summary style=\"display: list-item; margin-left: 0px;\" class=\"container-fields field-key\" title=\".session_start_time\"><b>session_start_time</b></summary><span class=\"field-key\">2024-12-07 09:55:48.276978-05:00</span></details><details><summary style=\"display: list-item; margin-left: 0px;\" class=\"container-fields field-key\" title=\".timestamps_reference_time\"><b>timestamps_reference_time</b></summary><span class=\"field-key\">2024-12-07 09:55:48.276978-05:00</span></details><details><summary style=\"display: list-item; margin-left: 0px;\" class=\"container-fields field-key\" title=\".file_create_date\"><b>file_create_date</b></summary><details><summary style=\"display: list-item; margin-left: 20px;\" class=\"container-fields field-key\" title=\".file_create_date[0]\"><b>0</b></summary><span class=\"field-key\">2024-12-07 09:55:48.277980-05:00</span></details></details><details><summary style=\"display: list-item; margin-left: 0px;\" class=\"container-fields field-key\" title=\".experimenter\"><b>experimenter</b></summary><span class=\"field-key\">('Mohapatra, Manish',)</span></details><details><summary style=\"display: list-item; margin-left: 0px;\" class=\"container-fields field-key\" title=\".keywords\"><b>keywords</b></summary></details><details><summary style=\"display: list-item; margin-left: 0px;\" class=\"container-fields field-key\" title=\".processing\"><b>processing</b></summary><details><summary style=\"display: list-item; margin-left: 20px;\" class=\"container-fields field-key\" title=\".processing['ecephys']\"><b>ecephys</b></summary><div style=\"margin-left: 40px;\" class=\"container-fields\"><span class=\"field-key\" title=\".processing['ecephys'].description\">description: </span><span class=\"field-value\">processed extracellular electrophysiology data</span></div><details><summary style=\"display: list-item; margin-left: 40px;\" class=\"container-fields field-key\" title=\".processing['ecephys'].data_interfaces\"><b>data_interfaces</b></summary><details><summary style=\"display: list-item; margin-left: 60px;\" class=\"container-fields field-key\" title=\".processing['ecephys'].data_interfaces['LFP']\"><b>LFP</b></summary><div style=\"margin-left: 80px;\" class=\"container-fields\"><span class=\"field-key\" title=\".processing['ecephys'].data_interfaces['LFP'].starting_time\">starting_time: </span><span class=\"field-value\">0.0</span></div><div style=\"margin-left: 80px;\" class=\"container-fields\"><span class=\"field-key\" title=\".processing['ecephys'].data_interfaces['LFP'].rate\">rate: </span><span class=\"field-value\">2500.0</span></div><div style=\"margin-left: 80px;\" class=\"container-fields\"><span class=\"field-key\" title=\".processing['ecephys'].data_interfaces['LFP'].resolution\">resolution: </span><span class=\"field-value\">-1.0</span></div><div style=\"margin-left: 80px;\" class=\"container-fields\"><span class=\"field-key\" title=\".processing['ecephys'].data_interfaces['LFP'].comments\">comments: </span><span class=\"field-value\">no comments</span></div><div style=\"margin-left: 80px;\" class=\"container-fields\"><span class=\"field-key\" title=\".processing['ecephys'].data_interfaces['LFP'].description\">description: </span><span class=\"field-value\">no description</span></div><div style=\"margin-left: 80px;\" class=\"container-fields\"><span class=\"field-key\" title=\".processing['ecephys'].data_interfaces['LFP'].conversion\">conversion: </span><span class=\"field-value\">1.0</span></div><div style=\"margin-left: 80px;\" class=\"container-fields\"><span class=\"field-key\" title=\".processing['ecephys'].data_interfaces['LFP'].offset\">offset: </span><span class=\"field-value\">0.0</span></div><div style=\"margin-left: 80px;\" class=\"container-fields\"><span class=\"field-key\" title=\".processing['ecephys'].data_interfaces['LFP'].unit\">unit: </span><span class=\"field-value\">volts</span></div><details><summary style=\"display: list-item; margin-left: 80px;\" class=\"container-fields field-key\" title=\".processing['ecephys'].data_interfaces['LFP'].data\"><b>data</b></summary></details><div style=\"margin-left: 80px;\" class=\"container-fields\"><span class=\"field-key\" title=\".processing['ecephys'].data_interfaces['LFP'].starting_time_unit\">starting_time_unit: </span><span class=\"field-value\">seconds</span></div><details><summary style=\"display: list-item; margin-left: 80px;\" class=\"container-fields field-key\" title=\".processing['ecephys'].data_interfaces['LFP'].electrodes\"><b>electrodes</b></summary><div style=\"margin-left: 100px;\" class=\"container-fields\"><span class=\"field-key\" title=\".processing['ecephys'].data_interfaces['LFP'].electrodes.description\">description: </span><span class=\"field-value\">LFP electrodes</span></div><details><summary style=\"display: list-item; margin-left: 100px;\" class=\"container-fields field-key\" title=\".processing['ecephys'].data_interfaces['LFP'].electrodes.table\"><b>table</b></summary><div style=\"margin-left: 120px;\" class=\"container-fields\"><span class=\"field-key\" title=\".processing['ecephys'].data_interfaces['LFP'].electrodes.table\">description: </span><span class=\"field-value\">metadata about extracellular electrodes</span></div><details><summary style=\"display: list-item; margin-left: 120px;\" class=\"container-fields field-key\" title=\".processing['ecephys'].data_interfaces['LFP'].electrodes.table\"><b>table</b></summary><table border=\"1\" class=\"dataframe\">\n",
       "  <thead>\n",
       "    <tr style=\"text-align: right;\">\n",
       "      <th></th>\n",
       "      <th>location</th>\n",
       "      <th>group</th>\n",
       "      <th>group_name</th>\n",
       "      <th>channel_id</th>\n",
       "    </tr>\n",
       "    <tr>\n",
       "      <th>id</th>\n",
       "      <th></th>\n",
       "      <th></th>\n",
       "      <th></th>\n",
       "      <th></th>\n",
       "    </tr>\n",
       "  </thead>\n",
       "  <tbody>\n",
       "    <tr>\n",
       "      <th>0</th>\n",
       "      <td>brain area</td>\n",
       "      <td>shank0 pynwb.ecephys.ElectrodeGroup at 0x2738738475840\\nFields:\\n  description: electrode group for shank 0\\n  device: imec0 pynwb.device.Device at 0x2738738475168\\nFields:\\n  description: NPX2.0\\n  manufacturer: IMEC\\n\\n  location: brain area\\n</td>\n",
       "      <td>shank0</td>\n",
       "      <td>imec0.ap#AP112</td>\n",
       "    </tr>\n",
       "    <tr>\n",
       "      <th>1</th>\n",
       "      <td>brain area</td>\n",
       "      <td>shank0 pynwb.ecephys.ElectrodeGroup at 0x2738738475840\\nFields:\\n  description: electrode group for shank 0\\n  device: imec0 pynwb.device.Device at 0x2738738475168\\nFields:\\n  description: NPX2.0\\n  manufacturer: IMEC\\n\\n  location: brain area\\n</td>\n",
       "      <td>shank0</td>\n",
       "      <td>imec0.ap#AP126</td>\n",
       "    </tr>\n",
       "    <tr>\n",
       "      <th>2</th>\n",
       "      <td>brain area</td>\n",
       "      <td>shank0 pynwb.ecephys.ElectrodeGroup at 0x2738738475840\\nFields:\\n  description: electrode group for shank 0\\n  device: imec0 pynwb.device.Device at 0x2738738475168\\nFields:\\n  description: NPX2.0\\n  manufacturer: IMEC\\n\\n  location: brain area\\n</td>\n",
       "      <td>shank0</td>\n",
       "      <td>imec0.ap#AP138</td>\n",
       "    </tr>\n",
       "    <tr>\n",
       "      <th>3</th>\n",
       "      <td>brain area</td>\n",
       "      <td>shank0 pynwb.ecephys.ElectrodeGroup at 0x2738738475840\\nFields:\\n  description: electrode group for shank 0\\n  device: imec0 pynwb.device.Device at 0x2738738475168\\nFields:\\n  description: NPX2.0\\n  manufacturer: IMEC\\n\\n  location: brain area\\n</td>\n",
       "      <td>shank0</td>\n",
       "      <td>imec0.ap#AP200</td>\n",
       "    </tr>\n",
       "  </tbody>\n",
       "</table><p>... and 28 more rows.</p></details></details></details></details></details></details></details><details><summary style=\"display: list-item; margin-left: 0px;\" class=\"container-fields field-key\" title=\".electrodes\"><b>electrodes</b></summary><div style=\"margin-left: 20px;\" class=\"container-fields\"><span class=\"field-key\" title=\".electrodes\">description: </span><span class=\"field-value\">metadata about extracellular electrodes</span></div><details><summary style=\"display: list-item; margin-left: 20px;\" class=\"container-fields field-key\" title=\".electrodes\"><b>table</b></summary><table border=\"1\" class=\"dataframe\">\n",
       "  <thead>\n",
       "    <tr style=\"text-align: right;\">\n",
       "      <th></th>\n",
       "      <th>location</th>\n",
       "      <th>group</th>\n",
       "      <th>group_name</th>\n",
       "      <th>channel_id</th>\n",
       "    </tr>\n",
       "    <tr>\n",
       "      <th>id</th>\n",
       "      <th></th>\n",
       "      <th></th>\n",
       "      <th></th>\n",
       "      <th></th>\n",
       "    </tr>\n",
       "  </thead>\n",
       "  <tbody>\n",
       "    <tr>\n",
       "      <th>0</th>\n",
       "      <td>brain area</td>\n",
       "      <td>shank0 pynwb.ecephys.ElectrodeGroup at 0x2738738475840\\nFields:\\n  description: electrode group for shank 0\\n  device: imec0 pynwb.device.Device at 0x2738738475168\\nFields:\\n  description: NPX2.0\\n  manufacturer: IMEC\\n\\n  location: brain area\\n</td>\n",
       "      <td>shank0</td>\n",
       "      <td>imec0.ap#AP112</td>\n",
       "    </tr>\n",
       "    <tr>\n",
       "      <th>1</th>\n",
       "      <td>brain area</td>\n",
       "      <td>shank0 pynwb.ecephys.ElectrodeGroup at 0x2738738475840\\nFields:\\n  description: electrode group for shank 0\\n  device: imec0 pynwb.device.Device at 0x2738738475168\\nFields:\\n  description: NPX2.0\\n  manufacturer: IMEC\\n\\n  location: brain area\\n</td>\n",
       "      <td>shank0</td>\n",
       "      <td>imec0.ap#AP126</td>\n",
       "    </tr>\n",
       "    <tr>\n",
       "      <th>2</th>\n",
       "      <td>brain area</td>\n",
       "      <td>shank0 pynwb.ecephys.ElectrodeGroup at 0x2738738475840\\nFields:\\n  description: electrode group for shank 0\\n  device: imec0 pynwb.device.Device at 0x2738738475168\\nFields:\\n  description: NPX2.0\\n  manufacturer: IMEC\\n\\n  location: brain area\\n</td>\n",
       "      <td>shank0</td>\n",
       "      <td>imec0.ap#AP138</td>\n",
       "    </tr>\n",
       "    <tr>\n",
       "      <th>3</th>\n",
       "      <td>brain area</td>\n",
       "      <td>shank0 pynwb.ecephys.ElectrodeGroup at 0x2738738475840\\nFields:\\n  description: electrode group for shank 0\\n  device: imec0 pynwb.device.Device at 0x2738738475168\\nFields:\\n  description: NPX2.0\\n  manufacturer: IMEC\\n\\n  location: brain area\\n</td>\n",
       "      <td>shank0</td>\n",
       "      <td>imec0.ap#AP200</td>\n",
       "    </tr>\n",
       "  </tbody>\n",
       "</table><p>... and 28 more rows.</p></details></details><details><summary style=\"display: list-item; margin-left: 0px;\" class=\"container-fields field-key\" title=\".electrode_groups\"><b>electrode_groups</b></summary><details><summary style=\"display: list-item; margin-left: 20px;\" class=\"container-fields field-key\" title=\".electrode_groups['shank0']\"><b>shank0</b></summary><div style=\"margin-left: 40px;\" class=\"container-fields\"><span class=\"field-key\" title=\".electrode_groups['shank0'].description\">description: </span><span class=\"field-value\">electrode group for shank 0</span></div><div style=\"margin-left: 40px;\" class=\"container-fields\"><span class=\"field-key\" title=\".electrode_groups['shank0'].location\">location: </span><span class=\"field-value\">brain area</span></div><details><summary style=\"display: list-item; margin-left: 40px;\" class=\"container-fields field-key\" title=\".electrode_groups['shank0'].device\"><b>device</b></summary><div style=\"margin-left: 60px;\" class=\"container-fields\"><span class=\"field-key\" title=\".electrode_groups['shank0'].device.description\">description: </span><span class=\"field-value\">NPX2.0</span></div><div style=\"margin-left: 60px;\" class=\"container-fields\"><span class=\"field-key\" title=\".electrode_groups['shank0'].device.manufacturer\">manufacturer: </span><span class=\"field-value\">IMEC</span></div></details></details><details><summary style=\"display: list-item; margin-left: 20px;\" class=\"container-fields field-key\" title=\".electrode_groups['shank1']\"><b>shank1</b></summary><div style=\"margin-left: 40px;\" class=\"container-fields\"><span class=\"field-key\" title=\".electrode_groups['shank1'].description\">description: </span><span class=\"field-value\">electrode group for shank 1</span></div><div style=\"margin-left: 40px;\" class=\"container-fields\"><span class=\"field-key\" title=\".electrode_groups['shank1'].location\">location: </span><span class=\"field-value\">brain area</span></div><details><summary style=\"display: list-item; margin-left: 40px;\" class=\"container-fields field-key\" title=\".electrode_groups['shank1'].device\"><b>device</b></summary><div style=\"margin-left: 60px;\" class=\"container-fields\"><span class=\"field-key\" title=\".electrode_groups['shank1'].device.description\">description: </span><span class=\"field-value\">NPX2.0</span></div><div style=\"margin-left: 60px;\" class=\"container-fields\"><span class=\"field-key\" title=\".electrode_groups['shank1'].device.manufacturer\">manufacturer: </span><span class=\"field-value\">IMEC</span></div></details></details><details><summary style=\"display: list-item; margin-left: 20px;\" class=\"container-fields field-key\" title=\".electrode_groups['shank2']\"><b>shank2</b></summary><div style=\"margin-left: 40px;\" class=\"container-fields\"><span class=\"field-key\" title=\".electrode_groups['shank2'].description\">description: </span><span class=\"field-value\">electrode group for shank 2</span></div><div style=\"margin-left: 40px;\" class=\"container-fields\"><span class=\"field-key\" title=\".electrode_groups['shank2'].location\">location: </span><span class=\"field-value\">brain area</span></div><details><summary style=\"display: list-item; margin-left: 40px;\" class=\"container-fields field-key\" title=\".electrode_groups['shank2'].device\"><b>device</b></summary><div style=\"margin-left: 60px;\" class=\"container-fields\"><span class=\"field-key\" title=\".electrode_groups['shank2'].device.description\">description: </span><span class=\"field-value\">NPX2.0</span></div><div style=\"margin-left: 60px;\" class=\"container-fields\"><span class=\"field-key\" title=\".electrode_groups['shank2'].device.manufacturer\">manufacturer: </span><span class=\"field-value\">IMEC</span></div></details></details><details><summary style=\"display: list-item; margin-left: 20px;\" class=\"container-fields field-key\" title=\".electrode_groups['shank3']\"><b>shank3</b></summary><div style=\"margin-left: 40px;\" class=\"container-fields\"><span class=\"field-key\" title=\".electrode_groups['shank3'].description\">description: </span><span class=\"field-value\">electrode group for shank 3</span></div><div style=\"margin-left: 40px;\" class=\"container-fields\"><span class=\"field-key\" title=\".electrode_groups['shank3'].location\">location: </span><span class=\"field-value\">brain area</span></div><details><summary style=\"display: list-item; margin-left: 40px;\" class=\"container-fields field-key\" title=\".electrode_groups['shank3'].device\"><b>device</b></summary><div style=\"margin-left: 60px;\" class=\"container-fields\"><span class=\"field-key\" title=\".electrode_groups['shank3'].device.description\">description: </span><span class=\"field-value\">NPX2.0</span></div><div style=\"margin-left: 60px;\" class=\"container-fields\"><span class=\"field-key\" title=\".electrode_groups['shank3'].device.manufacturer\">manufacturer: </span><span class=\"field-value\">IMEC</span></div></details></details></details><details><summary style=\"display: list-item; margin-left: 0px;\" class=\"container-fields field-key\" title=\".devices\"><b>devices</b></summary><details><summary style=\"display: list-item; margin-left: 20px;\" class=\"container-fields field-key\" title=\".devices['imec0']\"><b>imec0</b></summary><div style=\"margin-left: 40px;\" class=\"container-fields\"><span class=\"field-key\" title=\".devices['imec0'].description\">description: </span><span class=\"field-value\">NPX2.0</span></div><div style=\"margin-left: 40px;\" class=\"container-fields\"><span class=\"field-key\" title=\".devices['imec0'].manufacturer\">manufacturer: </span><span class=\"field-value\">IMEC</span></div></details></details><div style=\"margin-left: 0px;\" class=\"container-fields\"><span class=\"field-key\" title=\".experiment_description\">experiment_description: </span><span class=\"field-value\">Head-fixed mouse presented with odor sequences</span></div><div style=\"margin-left: 0px;\" class=\"container-fields\"><span class=\"field-key\" title=\".lab\">lab: </span><span class=\"field-value\">vandermeerlab</span></div><div style=\"margin-left: 0px;\" class=\"container-fields\"><span class=\"field-key\" title=\".institution\">institution: </span><span class=\"field-value\">Dartmouth College</span></div></div>"
      ],
      "text/plain": [
       "root pynwb.file.NWBFile at 0x2738735895152\n",
       "Fields:\n",
       "  devices: {\n",
       "    imec0 <class 'pynwb.device.Device'>\n",
       "  }\n",
       "  electrode_groups: {\n",
       "    shank0 <class 'pynwb.ecephys.ElectrodeGroup'>,\n",
       "    shank1 <class 'pynwb.ecephys.ElectrodeGroup'>,\n",
       "    shank2 <class 'pynwb.ecephys.ElectrodeGroup'>,\n",
       "    shank3 <class 'pynwb.ecephys.ElectrodeGroup'>\n",
       "  }\n",
       "  electrodes: electrodes <class 'hdmf.common.table.DynamicTable'>\n",
       "  experiment_description: Head-fixed mouse presented with odor sequences\n",
       "  experimenter: ['Mohapatra, Manish']\n",
       "  file_create_date: [datetime.datetime(2024, 12, 7, 9, 55, 48, 277980, tzinfo=tzoffset(None, -18000))]\n",
       "  identifier: M541-2024-08-31\n",
       "  institution: Dartmouth College\n",
       "  keywords: <StrDataset for HDF5 dataset \"keywords\": shape (3,), type \"|O\">\n",
       "  lab: vandermeerlab\n",
       "  processing: {\n",
       "    ecephys <class 'pynwb.base.ProcessingModule'>\n",
       "  }\n",
       "  session_description: my first synthetic recording\n",
       "  session_start_time: 2024-12-07 09:55:48.276978-05:00\n",
       "  timestamps_reference_time: 2024-12-07 09:55:48.276978-05:00"
      ]
     },
     "execution_count": 49,
     "metadata": {},
     "output_type": "execute_result"
    }
   ],
   "source": [
    "io = NWBHDF5IO(\"E:\\\\odor-pixels\\\\M541-2024-08-31\\\\test.nwb\", \"r\")\n",
    "nwb_file = io.read()\n",
    "nwb_file"
   ]
  },
  {
   "cell_type": "code",
   "execution_count": 44,
   "metadata": {},
   "outputs": [
    {
     "ename": "TypeError",
     "evalue": "validate: incorrect type for 'io' (got 'NWBFile', expected 'HDMFIO')",
     "output_type": "error",
     "traceback": [
      "\u001b[1;31m---------------------------------------------------------------------------\u001b[0m",
      "\u001b[1;31mTypeError\u001b[0m                                 Traceback (most recent call last)",
      "Cell \u001b[1;32mIn[44], line 1\u001b[0m\n\u001b[1;32m----> 1\u001b[0m \u001b[43mpynwb\u001b[49m\u001b[38;5;241;43m.\u001b[39;49m\u001b[43mvalidate\u001b[49m\u001b[43m(\u001b[49m\u001b[43mnwb_file\u001b[49m\u001b[43m)\u001b[49m\n",
      "File \u001b[1;32mc:\\Users\\mvdmlab\\miniconda3\\envs\\preprocessed_nwb\\lib\\site-packages\\hdmf\\utils.py:671\u001b[0m, in \u001b[0;36mdocval.<locals>.dec.<locals>.func_call\u001b[1;34m(*args, **kwargs)\u001b[0m\n\u001b[0;32m    670\u001b[0m \u001b[38;5;28;01mdef\u001b[39;00m \u001b[38;5;21mfunc_call\u001b[39m(\u001b[38;5;241m*\u001b[39margs, \u001b[38;5;241m*\u001b[39m\u001b[38;5;241m*\u001b[39mkwargs):\n\u001b[1;32m--> 671\u001b[0m     pargs \u001b[38;5;241m=\u001b[39m \u001b[43m_check_args\u001b[49m\u001b[43m(\u001b[49m\u001b[43margs\u001b[49m\u001b[43m,\u001b[49m\u001b[43m \u001b[49m\u001b[43mkwargs\u001b[49m\u001b[43m)\u001b[49m\n\u001b[0;32m    672\u001b[0m     \u001b[38;5;28;01mreturn\u001b[39;00m func(\u001b[38;5;241m*\u001b[39m\u001b[38;5;241m*\u001b[39mpargs)\n",
      "File \u001b[1;32mc:\\Users\\mvdmlab\\miniconda3\\envs\\preprocessed_nwb\\lib\\site-packages\\hdmf\\utils.py:660\u001b[0m, in \u001b[0;36mdocval.<locals>.dec.<locals>._check_args\u001b[1;34m(args, kwargs)\u001b[0m\n\u001b[0;32m    658\u001b[0m     \u001b[38;5;28;01mif\u001b[39;00m parse_err:\n\u001b[0;32m    659\u001b[0m         msg \u001b[38;5;241m=\u001b[39m \u001b[38;5;124m'\u001b[39m\u001b[38;5;132;01m%s\u001b[39;00m\u001b[38;5;124m: \u001b[39m\u001b[38;5;132;01m%s\u001b[39;00m\u001b[38;5;124m'\u001b[39m \u001b[38;5;241m%\u001b[39m (func\u001b[38;5;241m.\u001b[39m\u001b[38;5;18m__qualname__\u001b[39m, \u001b[38;5;124m'\u001b[39m\u001b[38;5;124m, \u001b[39m\u001b[38;5;124m'\u001b[39m\u001b[38;5;241m.\u001b[39mjoin(parse_err))\n\u001b[1;32m--> 660\u001b[0m         \u001b[38;5;28;01mraise\u001b[39;00m ExceptionType(msg)\n\u001b[0;32m    662\u001b[0m \u001b[38;5;28;01mreturn\u001b[39;00m parsed[\u001b[38;5;124m'\u001b[39m\u001b[38;5;124margs\u001b[39m\u001b[38;5;124m'\u001b[39m]\n",
      "\u001b[1;31mTypeError\u001b[0m: validate: incorrect type for 'io' (got 'NWBFile', expected 'HDMFIO')"
     ]
    }
   ],
   "source": [
    "pynwb.validate(nwb_file)"
   ]
  },
  {
   "cell_type": "code",
   "execution_count": null,
   "metadata": {},
   "outputs": [],
   "source": []
  }
 ],
 "metadata": {
  "kernelspec": {
   "display_name": "preprocessed_nwb",
   "language": "python",
   "name": "python3"
  },
  "language_info": {
   "codemirror_mode": {
    "name": "ipython",
    "version": 3
   },
   "file_extension": ".py",
   "mimetype": "text/x-python",
   "name": "python",
   "nbconvert_exporter": "python",
   "pygments_lexer": "ipython3",
   "version": "3.10.15"
  }
 },
 "nbformat": 4,
 "nbformat_minor": 2
}
