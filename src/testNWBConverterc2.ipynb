{
 "cells": [
  {
   "cell_type": "code",
   "execution_count": null,
   "metadata": {},
   "outputs": [],
   "source": [
    "from pathlib import Path\n",
    "import datetime\n",
    "from zoneinfo import ZoneInfo\n",
    "import shutil\n",
    "from datetime import datetime\n",
    "import os\n",
    "\n",
    "from pynwb import NWBHDF5IO, NWBFile\n",
    "from pynwb.ecephys import LFP, ElectricalSeries, SpikeEventSeries\n",
    "\n",
    "import manimoh_utils as mu\n",
    "import manimoh_nwb_converters as mnc"
   ]
  },
  {
   "cell_type": "code",
   "execution_count": null,
   "metadata": {},
   "outputs": [],
   "source": [
    "session_dir = 'E:\\\\odor-pixels\\\\M541-2024-08-31'\n",
    "session_metadata = mu.parse_expkeys(session_dir)"
   ]
  },
  {
   "cell_type": "code",
   "execution_count": null,
   "metadata": {},
   "outputs": [],
   "source": [
    "from datetime import datetime\n",
    "from dateutil.tz import tzlocal\n",
    "out_nwb = NWBFile(\n",
    "    session_description=\"my first synthetic recording\", #TODO: Can this be gleaed from exp keys?\n",
    "    identifier='-'.join([session_metadata['subject'], session_metadata['date']]),\n",
    "    session_start_time=datetime.now(tzlocal()), #TODO: Get from .meta file\n",
    "    experimenter=[\n",
    "        session_metadata['experimenter']\n",
    "    ],\n",
    "    lab=\"vandermeerlab\",\n",
    "    institution=\"Dartmouth College\",\n",
    "    experiment_description=\"Head-fixed mouse presented with odor sequences\",\n",
    "    keywords=[\"ecephys\", \"exploration\", \"wanderlust\"], #TODO: Needs editing\n",
    "    )"
   ]
  },
  {
   "cell_type": "code",
   "execution_count": null,
   "metadata": {},
   "outputs": [],
   "source": [
    "# add LFP electrodes table to nwb file\n",
    "device_labels = []\n",
    "if os.path.exists(session_dir + \"//imec0_clean_lfp.mat\"):\n",
    "    device_labels.append(\"imec0\")\n",
    "if os.path.exists(session_dir + \"//imec1_clean_lfp.mat\"):\n",
    "    device_labels.append(\"imec1\")\n",
    "\n",
    "mnc.add_lfp_electrodes_to_nwb(session_dir, out_nwb, session_metadata, device_labels)"
   ]
  },
  {
   "cell_type": "code",
   "execution_count": null,
   "metadata": {},
   "outputs": [],
   "source": [
    "out_nwb"
   ]
  },
  {
   "cell_type": "code",
   "execution_count": null,
   "metadata": {},
   "outputs": [],
   "source": [
    "mnc.add_lfp_data_to_nwb(session_dir, out_nwb, session_metadata, device_labels)"
   ]
  },
  {
   "cell_type": "code",
   "execution_count": null,
   "metadata": {},
   "outputs": [],
   "source": [
    "out_nwb"
   ]
  },
  {
   "cell_type": "code",
   "execution_count": null,
   "metadata": {},
   "outputs": [],
   "source": [
    "io = NWBHDF5IO(\"E:\\\\odor-pixels\\\\M541-2024-08-31\\\\test.nwb\", mode='w')\n",
    "io.write(out_nwb)"
   ]
  }
 ],
 "metadata": {
  "kernelspec": {
   "display_name": "preprocessed_nwb",
   "language": "python",
   "name": "python3"
  },
  "language_info": {
   "codemirror_mode": {
    "name": "ipython",
    "version": 3
   },
   "file_extension": ".py",
   "mimetype": "text/x-python",
   "name": "python",
   "nbconvert_exporter": "python",
   "pygments_lexer": "ipython3",
   "version": "3.10.15"
  }
 },
 "nbformat": 4,
 "nbformat_minor": 2
}
