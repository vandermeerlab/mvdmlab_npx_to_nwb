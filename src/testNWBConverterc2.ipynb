{
 "cells": [
  {
   "cell_type": "code",
   "execution_count": 1,
   "metadata": {},
   "outputs": [],
   "source": [
    "from pathlib import Path\n",
    "import datetime\n",
    "from zoneinfo import ZoneInfo\n",
    "import shutil\n",
    "from datetime import datetime\n",
    "import os\n",
    "import scipy.io as sio\n",
    "import numpy as np\n",
    "\n",
    "from pynwb import NWBHDF5IO, NWBFile\n",
    "from pynwb.ecephys import LFP, ElectricalSeries, SpikeEventSeries\n",
    "\n",
    "import manimoh_utils as mu\n",
    "import manimoh_nwb_converters as mnc"
   ]
  },
  {
   "cell_type": "code",
   "execution_count": 2,
   "metadata": {},
   "outputs": [],
   "source": [
    "# Create an NWB file\n",
    "from datetime import datetime\n",
    "from dateutil.tz import tzlocal\n",
    "session_dir = 'E:\\\\odor-pixels\\\\M541-2024-08-31'\n",
    "session_metadata = mu.parse_expkeys(session_dir)\n",
    "out_nwb = NWBFile(\n",
    "    session_description=\"my first synthetic recording\", #TODO: Can this be gleaed from exp keys?\n",
    "    identifier='-'.join([session_metadata['subject'], session_metadata['date']]),\n",
    "    session_start_time=datetime.now(tzlocal()), #TODO: Get from .meta file\n",
    "    experimenter=[\n",
    "        session_metadata['experimenter']\n",
    "    ],\n",
    "    lab=\"vandermeerlab\",\n",
    "    institution=\"Dartmouth College\",\n",
    "    experiment_description=\"Head-fixed mouse presented with odor sequences\",\n",
    "    keywords=[\"ecephys\", \"exploration\", \"wanderlust\"], #TODO: Needs editing\n",
    "    )"
   ]
  },
  {
   "cell_type": "code",
   "execution_count": 3,
   "metadata": {},
   "outputs": [],
   "source": [
    "# Add LFP electrodes and devices\n",
    "device_labels = []\n",
    "if os.path.exists(session_dir + \"//imec0_clean_lfp.mat\"):\n",
    "    device_labels.append(\"imec0\")\n",
    "if os.path.exists(session_dir + \"//imec1_clean_lfp.mat\"):\n",
    "    device_labels.append(\"imec1\")\n",
    "# add LFP electrodes table to nwb file\n",
    "mnc.add_lfp_electrodes_to_nwb(session_dir, out_nwb, session_metadata, device_labels)\n",
    "# add LFP traces to nwb file\n",
    "mnc.add_lfp_data_to_nwb(session_dir, out_nwb, session_metadata, device_labels)"
   ]
  },
  {
   "cell_type": "code",
   "execution_count": 4,
   "metadata": {},
   "outputs": [],
   "source": [
    "# Add LFP electrodes and devices\n",
    "device_labels = []\n",
    "if os.path.exists(session_dir + \"//clean_units_imec0.mat\"):\n",
    "    device_labels.append(\"imec0\")\n",
    "if os.path.exists(session_dir + \"//clean_units_imec1.mat\"):\n",
    "    device_labels.append(\"imec1\")\n",
    "mnc.add_sorting_electrodes_to_nwb(session_dir, out_nwb, session_metadata, device_labels)"
   ]
  },
  {
   "cell_type": "code",
   "execution_count": 5,
   "metadata": {},
   "outputs": [
    {
     "ename": "AttributeError",
     "evalue": "module 'manimoh_nwb_converters' has no attribute 'add_sorting_to_nwb'",
     "output_type": "error",
     "traceback": [
      "\u001b[1;31m---------------------------------------------------------------------------\u001b[0m",
      "\u001b[1;31mAttributeError\u001b[0m                            Traceback (most recent call last)",
      "Cell \u001b[1;32mIn[5], line 1\u001b[0m\n\u001b[1;32m----> 1\u001b[0m \u001b[43mmnc\u001b[49m\u001b[38;5;241;43m.\u001b[39;49m\u001b[43madd_sorting_to_nwb\u001b[49m(session_dir, out_nwb, session_metadata, device_labels)\n",
      "\u001b[1;31mAttributeError\u001b[0m: module 'manimoh_nwb_converters' has no attribute 'add_sorting_to_nwb'"
     ]
    }
   ],
   "source": [
    "mnc.add_sorting_to_nwb(session_dir, out_nwb, session_metadata, device_labels)"
   ]
  },
  {
   "cell_type": "code",
   "execution_count": 6,
   "metadata": {},
   "outputs": [
    {
     "data": {
      "text/plain": [
       "['__builtins__',\n",
       " '__cached__',\n",
       " '__doc__',\n",
       " '__file__',\n",
       " '__loader__',\n",
       " '__name__',\n",
       " '__package__',\n",
       " '__path__',\n",
       " '__spec__',\n",
       " 'add_lfp_data_to_nwb',\n",
       " 'add_lfp_electrodes_to_nwb',\n",
       " 'add_sorting_electrodes_to_nwb',\n",
       " 'odorseq_convert_lfp',\n",
       " 'odorseq_convert_sorting']"
      ]
     },
     "execution_count": 6,
     "metadata": {},
     "output_type": "execute_result"
    }
   ],
   "source": [
    "dir(mnc)"
   ]
  },
  {
   "cell_type": "code",
   "execution_count": null,
   "metadata": {},
   "outputs": [],
   "source": [
    "spike_data = sio.loadmat('E:\\\\odor-pixels\\\\M541-2024-08-31\\\\clean_units_imec0.mat')\n",
    "spike_data.keys()"
   ]
  },
  {
   "cell_type": "code",
   "execution_count": null,
   "metadata": {},
   "outputs": [],
   "source": [
    "nwbfile.add_unit_column(name='nWaveforms', description='Number of waveforms in unit')"
   ]
  },
  {
   "cell_type": "markdown",
   "metadata": {},
   "source": [
    "### Write the actual NWB File"
   ]
  },
  {
   "cell_type": "code",
   "execution_count": null,
   "metadata": {},
   "outputs": [],
   "source": [
    "io = NWBHDF5IO(\"E:\\\\odor-pixels\\\\M541-2024-08-31\\\\test_only_lfp2.nwb\", mode='w')\n",
    "io.write(out_nwb)"
   ]
  }
 ],
 "metadata": {
  "kernelspec": {
   "display_name": "preprocessed_nwb",
   "language": "python",
   "name": "python3"
  },
  "language_info": {
   "codemirror_mode": {
    "name": "ipython",
    "version": 3
   },
   "file_extension": ".py",
   "mimetype": "text/x-python",
   "name": "python",
   "nbconvert_exporter": "python",
   "pygments_lexer": "ipython3",
   "version": "3.10.15"
  }
 },
 "nbformat": 4,
 "nbformat_minor": 2
}
